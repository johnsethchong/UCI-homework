{
 "cells": [
  {
   "cell_type": "markdown",
   "metadata": {},
   "source": [
    "### Note\n",
    "* Instructions have been included for each segment. You do not have to follow them exactly, but they are included to help you think through the steps."
   ]
  },
  {
   "cell_type": "code",
   "execution_count": 2,
   "metadata": {},
   "outputs": [],
   "source": [
    "# Dependencies and Setup\n",
    "import pandas as pd\n",
    "\n",
    "# File to Load (Remember to Change These)\n",
    "file_to_load = \"Resources/purchase_data.csv\"\n",
    "\n",
    "# Read Purchasing File and store into Pandas data frame\n",
    "purchase_data = pd.read_csv(file_to_load)"
   ]
  },
  {
   "cell_type": "markdown",
   "metadata": {},
   "source": [
    "## Player Count"
   ]
  },
  {
   "cell_type": "markdown",
   "metadata": {},
   "source": [
    "* Display the total number of players\n"
   ]
  },
  {
   "cell_type": "code",
   "execution_count": 3,
   "metadata": {},
   "outputs": [
    {
     "data": {
      "text/html": [
       "<div>\n",
       "<style scoped>\n",
       "    .dataframe tbody tr th:only-of-type {\n",
       "        vertical-align: middle;\n",
       "    }\n",
       "\n",
       "    .dataframe tbody tr th {\n",
       "        vertical-align: top;\n",
       "    }\n",
       "\n",
       "    .dataframe thead th {\n",
       "        text-align: right;\n",
       "    }\n",
       "</style>\n",
       "<table border=\"1\" class=\"dataframe\">\n",
       "  <thead>\n",
       "    <tr style=\"text-align: right;\">\n",
       "      <th></th>\n",
       "      <th>Total Players</th>\n",
       "    </tr>\n",
       "  </thead>\n",
       "  <tbody>\n",
       "    <tr>\n",
       "      <th>0</th>\n",
       "      <td>576</td>\n",
       "    </tr>\n",
       "  </tbody>\n",
       "</table>\n",
       "</div>"
      ],
      "text/plain": [
       "   Total Players\n",
       "0            576"
      ]
     },
     "execution_count": 3,
     "metadata": {},
     "output_type": "execute_result"
    }
   ],
   "source": [
    "#Use the lenth of the list of SNs to get total players\n",
    "total_players = len(purchase_data[\"SN\"].value_counts())\n",
    "\n",
    "#build a data frame with total amount of players\n",
    "player_count = pd.DataFrame({\"Total Players\":[total_players]})\n",
    "player_count"
   ]
  },
  {
   "cell_type": "markdown",
   "metadata": {},
   "source": [
    "## Purchasing Analysis (Total)"
   ]
  },
  {
   "cell_type": "markdown",
   "metadata": {},
   "source": [
    "* Run basic calculations to obtain number of unique items, average price, etc.\n",
    "\n",
    "\n",
    "* Create a summary data frame to hold the results\n",
    "\n",
    "\n",
    "* Optional: give the displayed data cleaner formatting\n",
    "\n",
    "\n",
    "* Display the summary data frame\n"
   ]
  },
  {
   "cell_type": "code",
   "execution_count": 4,
   "metadata": {
    "scrolled": true
   },
   "outputs": [
    {
     "data": {
      "text/html": [
       "<style  type=\"text/css\" >\n",
       "</style><table id=\"T_4555e3fa_da29_11e9_9a7f_3024328f05c4\" ><thead>    <tr>        <th class=\"blank level0\" ></th>        <th class=\"col_heading level0 col0\" >Number of Unique Items</th>        <th class=\"col_heading level0 col1\" >Average Price</th>        <th class=\"col_heading level0 col2\" >Number Of Purchases</th>        <th class=\"col_heading level0 col3\" >Total Revenue</th>    </tr></thead><tbody>\n",
       "                <tr>\n",
       "                        <th id=\"T_4555e3fa_da29_11e9_9a7f_3024328f05c4level0_row0\" class=\"row_heading level0 row0\" >0</th>\n",
       "                        <td id=\"T_4555e3fa_da29_11e9_9a7f_3024328f05c4row0_col0\" class=\"data row0 col0\" >183</td>\n",
       "                        <td id=\"T_4555e3fa_da29_11e9_9a7f_3024328f05c4row0_col1\" class=\"data row0 col1\" >$3.05</td>\n",
       "                        <td id=\"T_4555e3fa_da29_11e9_9a7f_3024328f05c4row0_col2\" class=\"data row0 col2\" >780</td>\n",
       "                        <td id=\"T_4555e3fa_da29_11e9_9a7f_3024328f05c4row0_col3\" class=\"data row0 col3\" >$2,379.77</td>\n",
       "            </tr>\n",
       "    </tbody></table>"
      ],
      "text/plain": [
       "<pandas.io.formats.style.Styler at 0x1348e654f28>"
      ]
     },
     "execution_count": 4,
     "metadata": {},
     "output_type": "execute_result"
    }
   ],
   "source": [
    "#Find the number of unique items under Item ID\n",
    "number_of_unique_items = len((purchase_data[\"Item ID\"]).unique())\n",
    "\n",
    "#Find out the average price of an item by using mean\n",
    "avg_price = (purchase_data[\"Price\"]).mean()\n",
    "\n",
    "#Count the number of purchases using Purchase ID\n",
    "number_of_purchase = (purchase_data[\"Purchase ID\"]).count()\n",
    "\n",
    "#Find the total revenue by summing up the Price\n",
    "total_revenue = (purchase_data[\"Price\"]).sum()\n",
    "\n",
    "#Create data frame with obtained values\n",
    "game_df = pd.DataFrame({\"Number of Unique Items\": [number_of_unique_items], \"Average Price\": [avg_price],\n",
    "                        \"Number Of Purchases\": [number_of_purchase], \"Total Revenue\": [total_revenue]})\n",
    "#Add formatting\n",
    "game_df.style.format({'Average Price': '${:.2f}', 'Total Revenue': '${:,.2f}'})"
   ]
  },
  {
   "cell_type": "markdown",
   "metadata": {},
   "source": [
    "## Gender Demographics"
   ]
  },
  {
   "cell_type": "markdown",
   "metadata": {},
   "source": [
    "* Percentage and Count of Male Players\n",
    "\n",
    "\n",
    "* Percentage and Count of Female Players\n",
    "\n",
    "\n",
    "* Percentage and Count of Other / Non-Disclosed\n",
    "\n",
    "\n"
   ]
  },
  {
   "cell_type": "code",
   "execution_count": 5,
   "metadata": {},
   "outputs": [
    {
     "data": {
      "text/html": [
       "<style  type=\"text/css\" >\n",
       "</style><table id=\"T_46e400e8_da29_11e9_90f2_3024328f05c4\" ><thead>    <tr>        <th class=\"blank level0\" ></th>        <th class=\"col_heading level0 col0\" >Total Count</th>        <th class=\"col_heading level0 col1\" >Percentage of Players</th>    </tr></thead><tbody>\n",
       "                <tr>\n",
       "                        <th id=\"T_46e400e8_da29_11e9_90f2_3024328f05c4level0_row0\" class=\"row_heading level0 row0\" >Male</th>\n",
       "                        <td id=\"T_46e400e8_da29_11e9_90f2_3024328f05c4row0_col0\" class=\"data row0 col0\" >652</td>\n",
       "                        <td id=\"T_46e400e8_da29_11e9_90f2_3024328f05c4row0_col1\" class=\"data row0 col1\" >83.59%</td>\n",
       "            </tr>\n",
       "            <tr>\n",
       "                        <th id=\"T_46e400e8_da29_11e9_90f2_3024328f05c4level0_row1\" class=\"row_heading level0 row1\" >Female</th>\n",
       "                        <td id=\"T_46e400e8_da29_11e9_90f2_3024328f05c4row1_col0\" class=\"data row1 col0\" >113</td>\n",
       "                        <td id=\"T_46e400e8_da29_11e9_90f2_3024328f05c4row1_col1\" class=\"data row1 col1\" >14.49%</td>\n",
       "            </tr>\n",
       "            <tr>\n",
       "                        <th id=\"T_46e400e8_da29_11e9_90f2_3024328f05c4level0_row2\" class=\"row_heading level0 row2\" >Other / Non-Disclosed</th>\n",
       "                        <td id=\"T_46e400e8_da29_11e9_90f2_3024328f05c4row2_col0\" class=\"data row2 col0\" >15</td>\n",
       "                        <td id=\"T_46e400e8_da29_11e9_90f2_3024328f05c4row2_col1\" class=\"data row2 col1\" >1.92%</td>\n",
       "            </tr>\n",
       "    </tbody></table>"
      ],
      "text/plain": [
       "<pandas.io.formats.style.Styler at 0x1348e6fe320>"
      ]
     },
     "execution_count": 5,
     "metadata": {},
     "output_type": "execute_result"
    }
   ],
   "source": [
    "#Find the amounts of each gender\n",
    "gender_count = (purchase_data[\"Gender\"].value_counts())\n",
    "\n",
    "#Input into dataframe\n",
    "gender_df=pd.DataFrame(gender_count)\n",
    "\n",
    "#Divide the count of each gender by the total amount of people\n",
    "gender_pct = (gender_count / purchase_data[\"Gender\"].count()) * 100\n",
    "\n",
    "#Add new column with new data\n",
    "gender_df[\"Percentage of Players\"] = gender_pct\n",
    "\n",
    "#Rename the column to fit\n",
    "gender_df = gender_df.rename(columns={\"Gender\":\"Total Count\"})\n",
    "gender_df\n",
    "gender_df.style.format({'Percentage of Players': '{:,.2f}%'})\n"
   ]
  },
  {
   "cell_type": "markdown",
   "metadata": {},
   "source": [
    "\n",
    "## Purchasing Analysis (Gender)"
   ]
  },
  {
   "cell_type": "markdown",
   "metadata": {},
   "source": [
    "* Run basic calculations to obtain purchase count, avg. purchase price, avg. purchase total per person etc. by gender\n",
    "\n",
    "\n",
    "\n",
    "\n",
    "* Create a summary data frame to hold the results\n",
    "\n",
    "\n",
    "* Optional: give the displayed data cleaner formatting\n",
    "\n",
    "\n",
    "* Display the summary data frame"
   ]
  },
  {
   "cell_type": "code",
   "execution_count": 6,
   "metadata": {},
   "outputs": [
    {
     "data": {
      "text/html": [
       "<style  type=\"text/css\" >\n",
       "</style><table id=\"T_48a6c510_da29_11e9_abc9_3024328f05c4\" ><thead>    <tr>        <th class=\"blank level0\" ></th>        <th class=\"col_heading level0 col0\" >Purchase Count</th>        <th class=\"col_heading level0 col1\" >Average Purchase Price</th>        <th class=\"col_heading level0 col2\" >Total Purchase Value</th>        <th class=\"col_heading level0 col3\" >Avg Total Purchase Per Person</th>    </tr>    <tr>        <th class=\"index_name level0\" >Gender</th>        <th class=\"blank\" ></th>        <th class=\"blank\" ></th>        <th class=\"blank\" ></th>        <th class=\"blank\" ></th>    </tr></thead><tbody>\n",
       "                <tr>\n",
       "                        <th id=\"T_48a6c510_da29_11e9_abc9_3024328f05c4level0_row0\" class=\"row_heading level0 row0\" >Female</th>\n",
       "                        <td id=\"T_48a6c510_da29_11e9_abc9_3024328f05c4row0_col0\" class=\"data row0 col0\" >113</td>\n",
       "                        <td id=\"T_48a6c510_da29_11e9_abc9_3024328f05c4row0_col1\" class=\"data row0 col1\" >$3.20</td>\n",
       "                        <td id=\"T_48a6c510_da29_11e9_abc9_3024328f05c4row0_col2\" class=\"data row0 col2\" >$361.94</td>\n",
       "                        <td id=\"T_48a6c510_da29_11e9_abc9_3024328f05c4row0_col3\" class=\"data row0 col3\" >$0.04</td>\n",
       "            </tr>\n",
       "            <tr>\n",
       "                        <th id=\"T_48a6c510_da29_11e9_abc9_3024328f05c4level0_row1\" class=\"row_heading level0 row1\" >Male</th>\n",
       "                        <td id=\"T_48a6c510_da29_11e9_abc9_3024328f05c4row1_col0\" class=\"data row1 col0\" >652</td>\n",
       "                        <td id=\"T_48a6c510_da29_11e9_abc9_3024328f05c4row1_col1\" class=\"data row1 col1\" >$3.02</td>\n",
       "                        <td id=\"T_48a6c510_da29_11e9_abc9_3024328f05c4row1_col2\" class=\"data row1 col2\" >$1,967.64</td>\n",
       "                        <td id=\"T_48a6c510_da29_11e9_abc9_3024328f05c4row1_col3\" class=\"data row1 col3\" >$0.01</td>\n",
       "            </tr>\n",
       "            <tr>\n",
       "                        <th id=\"T_48a6c510_da29_11e9_abc9_3024328f05c4level0_row2\" class=\"row_heading level0 row2\" >Other / Non-Disclosed</th>\n",
       "                        <td id=\"T_48a6c510_da29_11e9_abc9_3024328f05c4row2_col0\" class=\"data row2 col0\" >15</td>\n",
       "                        <td id=\"T_48a6c510_da29_11e9_abc9_3024328f05c4row2_col1\" class=\"data row2 col1\" >$3.35</td>\n",
       "                        <td id=\"T_48a6c510_da29_11e9_abc9_3024328f05c4row2_col2\" class=\"data row2 col2\" >$50.19</td>\n",
       "                        <td id=\"T_48a6c510_da29_11e9_abc9_3024328f05c4row2_col3\" class=\"data row2 col3\" >$0.30</td>\n",
       "            </tr>\n",
       "    </tbody></table>"
      ],
      "text/plain": [
       "<pandas.io.formats.style.Styler at 0x1348e6b92b0>"
      ]
     },
     "execution_count": 6,
     "metadata": {},
     "output_type": "execute_result"
    }
   ],
   "source": [
    "#Group the purchase_data by Gender\n",
    "gender_group = purchase_data.groupby('Gender')\n",
    "\n",
    "#Count the total number of purchases by gender\n",
    "total_purch = gender_group[\"Purchase ID\"].count()\n",
    "\n",
    "#Find the average price using mean\n",
    "avg_purch_price = gender_group[\"Price\"].mean()\n",
    "\n",
    "#Find the purchase total\n",
    "purch_total = gender_group[\"Price\"].sum()\n",
    "\n",
    "#Find average purchase per person \n",
    "avg_purch_pp = avg_purch_price/gender_group.nunique()[\"SN\"]\n",
    "\n",
    "#Input into DataFrame\n",
    "rev_gender_df=pd.DataFrame({\"Purchase Count\":total_purch, \"Average Purchase Price\":avg_purch_price,\n",
    "                            \"Total Purchase Value\": purch_total, \"Avg Total Purchase Per Person\": avg_purch_pp})\n",
    "#Add formatting\n",
    "rev_gender_df\n",
    "rev_gender_df.style.format({'Average Purchase Price': '${:,.2f}',\n",
    "                           'Total Purchase Value': '${:,.2f}',\n",
    "                           'Avg Total Purchase Per Person': '${:,.2f}'})"
   ]
  },
  {
   "cell_type": "markdown",
   "metadata": {},
   "source": [
    "## Age Demographics"
   ]
  },
  {
   "cell_type": "markdown",
   "metadata": {},
   "source": [
    "* Establish bins for ages\n",
    "\n",
    "\n",
    "* Categorize the existing players using the age bins. Hint: use pd.cut()\n",
    "\n",
    "\n",
    "* Calculate the numbers and percentages by age group\n",
    "\n",
    "\n",
    "* Create a summary data frame to hold the results\n",
    "\n",
    "\n",
    "* Optional: round the percentage column to two decimal points\n",
    "\n",
    "\n",
    "* Display Age Demographics Table\n"
   ]
  },
  {
   "cell_type": "code",
   "execution_count": 7,
   "metadata": {},
   "outputs": [
    {
     "data": {
      "text/html": [
       "<style  type=\"text/css\" >\n",
       "</style><table id=\"T_4ae4d0ee_da29_11e9_a08f_3024328f05c4\" ><thead>    <tr>        <th class=\"blank level0\" ></th>        <th class=\"col_heading level0 col0\" >Total Count</th>        <th class=\"col_heading level0 col1\" >Percentage of Players</th>    </tr>    <tr>        <th class=\"index_name level0\" >Age Group</th>        <th class=\"blank\" ></th>        <th class=\"blank\" ></th>    </tr></thead><tbody>\n",
       "                <tr>\n",
       "                        <th id=\"T_4ae4d0ee_da29_11e9_a08f_3024328f05c4level0_row0\" class=\"row_heading level0 row0\" ><10</th>\n",
       "                        <td id=\"T_4ae4d0ee_da29_11e9_a08f_3024328f05c4row0_col0\" class=\"data row0 col0\" >17</td>\n",
       "                        <td id=\"T_4ae4d0ee_da29_11e9_a08f_3024328f05c4row0_col1\" class=\"data row0 col1\" >2.95%</td>\n",
       "            </tr>\n",
       "            <tr>\n",
       "                        <th id=\"T_4ae4d0ee_da29_11e9_a08f_3024328f05c4level0_row1\" class=\"row_heading level0 row1\" >10-14</th>\n",
       "                        <td id=\"T_4ae4d0ee_da29_11e9_a08f_3024328f05c4row1_col0\" class=\"data row1 col0\" >22</td>\n",
       "                        <td id=\"T_4ae4d0ee_da29_11e9_a08f_3024328f05c4row1_col1\" class=\"data row1 col1\" >3.82%</td>\n",
       "            </tr>\n",
       "            <tr>\n",
       "                        <th id=\"T_4ae4d0ee_da29_11e9_a08f_3024328f05c4level0_row2\" class=\"row_heading level0 row2\" >15-19</th>\n",
       "                        <td id=\"T_4ae4d0ee_da29_11e9_a08f_3024328f05c4row2_col0\" class=\"data row2 col0\" >107</td>\n",
       "                        <td id=\"T_4ae4d0ee_da29_11e9_a08f_3024328f05c4row2_col1\" class=\"data row2 col1\" >18.58%</td>\n",
       "            </tr>\n",
       "            <tr>\n",
       "                        <th id=\"T_4ae4d0ee_da29_11e9_a08f_3024328f05c4level0_row3\" class=\"row_heading level0 row3\" >20-24</th>\n",
       "                        <td id=\"T_4ae4d0ee_da29_11e9_a08f_3024328f05c4row3_col0\" class=\"data row3 col0\" >258</td>\n",
       "                        <td id=\"T_4ae4d0ee_da29_11e9_a08f_3024328f05c4row3_col1\" class=\"data row3 col1\" >44.79%</td>\n",
       "            </tr>\n",
       "            <tr>\n",
       "                        <th id=\"T_4ae4d0ee_da29_11e9_a08f_3024328f05c4level0_row4\" class=\"row_heading level0 row4\" >25-29</th>\n",
       "                        <td id=\"T_4ae4d0ee_da29_11e9_a08f_3024328f05c4row4_col0\" class=\"data row4 col0\" >77</td>\n",
       "                        <td id=\"T_4ae4d0ee_da29_11e9_a08f_3024328f05c4row4_col1\" class=\"data row4 col1\" >13.37%</td>\n",
       "            </tr>\n",
       "            <tr>\n",
       "                        <th id=\"T_4ae4d0ee_da29_11e9_a08f_3024328f05c4level0_row5\" class=\"row_heading level0 row5\" >30-34</th>\n",
       "                        <td id=\"T_4ae4d0ee_da29_11e9_a08f_3024328f05c4row5_col0\" class=\"data row5 col0\" >52</td>\n",
       "                        <td id=\"T_4ae4d0ee_da29_11e9_a08f_3024328f05c4row5_col1\" class=\"data row5 col1\" >9.03%</td>\n",
       "            </tr>\n",
       "            <tr>\n",
       "                        <th id=\"T_4ae4d0ee_da29_11e9_a08f_3024328f05c4level0_row6\" class=\"row_heading level0 row6\" >35-39</th>\n",
       "                        <td id=\"T_4ae4d0ee_da29_11e9_a08f_3024328f05c4row6_col0\" class=\"data row6 col0\" >31</td>\n",
       "                        <td id=\"T_4ae4d0ee_da29_11e9_a08f_3024328f05c4row6_col1\" class=\"data row6 col1\" >5.38%</td>\n",
       "            </tr>\n",
       "            <tr>\n",
       "                        <th id=\"T_4ae4d0ee_da29_11e9_a08f_3024328f05c4level0_row7\" class=\"row_heading level0 row7\" >40+</th>\n",
       "                        <td id=\"T_4ae4d0ee_da29_11e9_a08f_3024328f05c4row7_col0\" class=\"data row7 col0\" >12</td>\n",
       "                        <td id=\"T_4ae4d0ee_da29_11e9_a08f_3024328f05c4row7_col1\" class=\"data row7 col1\" >2.08%</td>\n",
       "            </tr>\n",
       "    </tbody></table>"
      ],
      "text/plain": [
       "<pandas.io.formats.style.Styler at 0x1348f45a9e8>"
      ]
     },
     "execution_count": 7,
     "metadata": {},
     "output_type": "execute_result"
    }
   ],
   "source": [
    "#Create bins for the ages\n",
    "bins = [0,9,14,19,24,29,34,39,110]\n",
    "\n",
    "#Establish group names\n",
    "group_names = [\"<10\", \"10-14\",\"15-19\",\"20-24\", \"25-29\", \"30-34\", \"35-39\", \"40+\"]\n",
    "\n",
    "# Place the data series into a new column inside of the DataFrame\n",
    "purchase_data[\"Age Group\"] = pd.cut(purchase_data[\"Age\"], bins, labels=group_names)\n",
    "\n",
    "#Create a groupby object based on Age Group\n",
    "age_group = purchase_data.groupby(\"Age Group\")\n",
    "\n",
    "#Obtain the total count by counting unique SN values\n",
    "total_count_age = age_group[\"SN\"].nunique()\n",
    "\n",
    "#Find the percentage \n",
    "age_pct = (total_count_age/total_players)*100\n",
    "\n",
    "#Input into Dataframe & add formatting\n",
    "\n",
    "age_df = pd.DataFrame({\"Total Count\":total_count_age, \"Percentage of Players\":age_pct})\n",
    "age_df\n",
    "age_df.style.format({'Percentage of Players': '{:,.2f}%'})"
   ]
  },
  {
   "cell_type": "markdown",
   "metadata": {},
   "source": [
    "## Purchasing Analysis (Age)"
   ]
  },
  {
   "cell_type": "markdown",
   "metadata": {},
   "source": [
    "* Bin the purchase_data data frame by age\n",
    "\n",
    "\n",
    "* Run basic calculations to obtain purchase count, avg. purchase price, avg. purchase total per person etc. in the table below\n",
    "\n",
    "\n",
    "* Create a summary data frame to hold the results\n",
    "\n",
    "\n",
    "* Optional: give the displayed data cleaner formatting\n",
    "\n",
    "\n",
    "* Display the summary data frame"
   ]
  },
  {
   "cell_type": "code",
   "execution_count": 13,
   "metadata": {},
   "outputs": [
    {
     "data": {
      "text/html": [
       "<style  type=\"text/css\" >\n",
       "</style><table id=\"T_ccea4b5a_da30_11e9_94a9_3024328f05c4\" ><thead>    <tr>        <th class=\"blank level0\" ></th>        <th class=\"col_heading level0 col0\" >Purchase Count</th>        <th class=\"col_heading level0 col1\" >Average Purchase Price</th>        <th class=\"col_heading level0 col2\" >Total Purchase Value</th>        <th class=\"col_heading level0 col3\" >Avg Total Purchase per Person</th>    </tr>    <tr>        <th class=\"index_name level0\" >Age Ranges</th>        <th class=\"blank\" ></th>        <th class=\"blank\" ></th>        <th class=\"blank\" ></th>        <th class=\"blank\" ></th>    </tr></thead><tbody>\n",
       "                <tr>\n",
       "                        <th id=\"T_ccea4b5a_da30_11e9_94a9_3024328f05c4level0_row0\" class=\"row_heading level0 row0\" ><10</th>\n",
       "                        <td id=\"T_ccea4b5a_da30_11e9_94a9_3024328f05c4row0_col0\" class=\"data row0 col0\" >23</td>\n",
       "                        <td id=\"T_ccea4b5a_da30_11e9_94a9_3024328f05c4row0_col1\" class=\"data row0 col1\" >$3.35</td>\n",
       "                        <td id=\"T_ccea4b5a_da30_11e9_94a9_3024328f05c4row0_col2\" class=\"data row0 col2\" >$77.13</td>\n",
       "                        <td id=\"T_ccea4b5a_da30_11e9_94a9_3024328f05c4row0_col3\" class=\"data row0 col3\" >$4.54</td>\n",
       "            </tr>\n",
       "            <tr>\n",
       "                        <th id=\"T_ccea4b5a_da30_11e9_94a9_3024328f05c4level0_row1\" class=\"row_heading level0 row1\" >10-14</th>\n",
       "                        <td id=\"T_ccea4b5a_da30_11e9_94a9_3024328f05c4row1_col0\" class=\"data row1 col0\" >28</td>\n",
       "                        <td id=\"T_ccea4b5a_da30_11e9_94a9_3024328f05c4row1_col1\" class=\"data row1 col1\" >$2.96</td>\n",
       "                        <td id=\"T_ccea4b5a_da30_11e9_94a9_3024328f05c4row1_col2\" class=\"data row1 col2\" >$82.78</td>\n",
       "                        <td id=\"T_ccea4b5a_da30_11e9_94a9_3024328f05c4row1_col3\" class=\"data row1 col3\" >$3.76</td>\n",
       "            </tr>\n",
       "            <tr>\n",
       "                        <th id=\"T_ccea4b5a_da30_11e9_94a9_3024328f05c4level0_row2\" class=\"row_heading level0 row2\" >15-19</th>\n",
       "                        <td id=\"T_ccea4b5a_da30_11e9_94a9_3024328f05c4row2_col0\" class=\"data row2 col0\" >136</td>\n",
       "                        <td id=\"T_ccea4b5a_da30_11e9_94a9_3024328f05c4row2_col1\" class=\"data row2 col1\" >$3.04</td>\n",
       "                        <td id=\"T_ccea4b5a_da30_11e9_94a9_3024328f05c4row2_col2\" class=\"data row2 col2\" >$412.89</td>\n",
       "                        <td id=\"T_ccea4b5a_da30_11e9_94a9_3024328f05c4row2_col3\" class=\"data row2 col3\" >$3.86</td>\n",
       "            </tr>\n",
       "            <tr>\n",
       "                        <th id=\"T_ccea4b5a_da30_11e9_94a9_3024328f05c4level0_row3\" class=\"row_heading level0 row3\" >20-24</th>\n",
       "                        <td id=\"T_ccea4b5a_da30_11e9_94a9_3024328f05c4row3_col0\" class=\"data row3 col0\" >365</td>\n",
       "                        <td id=\"T_ccea4b5a_da30_11e9_94a9_3024328f05c4row3_col1\" class=\"data row3 col1\" >$3.05</td>\n",
       "                        <td id=\"T_ccea4b5a_da30_11e9_94a9_3024328f05c4row3_col2\" class=\"data row3 col2\" >$1,114.06</td>\n",
       "                        <td id=\"T_ccea4b5a_da30_11e9_94a9_3024328f05c4row3_col3\" class=\"data row3 col3\" >$4.32</td>\n",
       "            </tr>\n",
       "            <tr>\n",
       "                        <th id=\"T_ccea4b5a_da30_11e9_94a9_3024328f05c4level0_row4\" class=\"row_heading level0 row4\" >25-29</th>\n",
       "                        <td id=\"T_ccea4b5a_da30_11e9_94a9_3024328f05c4row4_col0\" class=\"data row4 col0\" >101</td>\n",
       "                        <td id=\"T_ccea4b5a_da30_11e9_94a9_3024328f05c4row4_col1\" class=\"data row4 col1\" >$2.90</td>\n",
       "                        <td id=\"T_ccea4b5a_da30_11e9_94a9_3024328f05c4row4_col2\" class=\"data row4 col2\" >$293.00</td>\n",
       "                        <td id=\"T_ccea4b5a_da30_11e9_94a9_3024328f05c4row4_col3\" class=\"data row4 col3\" >$3.81</td>\n",
       "            </tr>\n",
       "            <tr>\n",
       "                        <th id=\"T_ccea4b5a_da30_11e9_94a9_3024328f05c4level0_row5\" class=\"row_heading level0 row5\" >30-34</th>\n",
       "                        <td id=\"T_ccea4b5a_da30_11e9_94a9_3024328f05c4row5_col0\" class=\"data row5 col0\" >73</td>\n",
       "                        <td id=\"T_ccea4b5a_da30_11e9_94a9_3024328f05c4row5_col1\" class=\"data row5 col1\" >$2.93</td>\n",
       "                        <td id=\"T_ccea4b5a_da30_11e9_94a9_3024328f05c4row5_col2\" class=\"data row5 col2\" >$214.00</td>\n",
       "                        <td id=\"T_ccea4b5a_da30_11e9_94a9_3024328f05c4row5_col3\" class=\"data row5 col3\" >$4.12</td>\n",
       "            </tr>\n",
       "            <tr>\n",
       "                        <th id=\"T_ccea4b5a_da30_11e9_94a9_3024328f05c4level0_row6\" class=\"row_heading level0 row6\" >35-39</th>\n",
       "                        <td id=\"T_ccea4b5a_da30_11e9_94a9_3024328f05c4row6_col0\" class=\"data row6 col0\" >41</td>\n",
       "                        <td id=\"T_ccea4b5a_da30_11e9_94a9_3024328f05c4row6_col1\" class=\"data row6 col1\" >$3.60</td>\n",
       "                        <td id=\"T_ccea4b5a_da30_11e9_94a9_3024328f05c4row6_col2\" class=\"data row6 col2\" >$147.67</td>\n",
       "                        <td id=\"T_ccea4b5a_da30_11e9_94a9_3024328f05c4row6_col3\" class=\"data row6 col3\" >$4.76</td>\n",
       "            </tr>\n",
       "            <tr>\n",
       "                        <th id=\"T_ccea4b5a_da30_11e9_94a9_3024328f05c4level0_row7\" class=\"row_heading level0 row7\" >40+</th>\n",
       "                        <td id=\"T_ccea4b5a_da30_11e9_94a9_3024328f05c4row7_col0\" class=\"data row7 col0\" >13</td>\n",
       "                        <td id=\"T_ccea4b5a_da30_11e9_94a9_3024328f05c4row7_col1\" class=\"data row7 col1\" >$2.94</td>\n",
       "                        <td id=\"T_ccea4b5a_da30_11e9_94a9_3024328f05c4row7_col2\" class=\"data row7 col2\" >$38.24</td>\n",
       "                        <td id=\"T_ccea4b5a_da30_11e9_94a9_3024328f05c4row7_col3\" class=\"data row7 col3\" >$3.19</td>\n",
       "            </tr>\n",
       "    </tbody></table>"
      ],
      "text/plain": [
       "<pandas.io.formats.style.Styler at 0x1348f476668>"
      ]
     },
     "execution_count": 13,
     "metadata": {},
     "output_type": "execute_result"
    }
   ],
   "source": [
    "#Bin the purchase_data by age\n",
    "purchase_data[\"Age Ranges\"] = pd.cut(purchase_data[\"Age\"], bins, labels=group_names)\n",
    "age_range=purchase_data.groupby(\"Age Ranges\")\n",
    "\n",
    "#Find the total purchase count\n",
    "age_purch_count = age_range[\"Purchase ID\"].count()\n",
    "\n",
    "#Find the average purchase price using mean\n",
    "avg_purch_price_age = age_range[\"Price\"].mean()\n",
    "\n",
    "#Find the total purchase value\n",
    "age_purch_total = age_range[\"Price\"].sum()\n",
    "\n",
    "#Find the average total purchase per person\n",
    "age_purch_pp = age_purch_total/age_range.nunique()[\"SN\"]\n",
    "#Input into data frame and add formatting\n",
    "\n",
    "age_range_df = pd.DataFrame({\"Purchase Count\": age_purch_count,\n",
    "                            \"Average Purchase Price\": avg_purch_price_age,\n",
    "                            \"Total Purchase Value\": age_purch_total,\n",
    "                            \"Avg Total Purchase per Person\": age_purch_pp})\n",
    "\n",
    "age_range_df.style.format({'Average Purchase Price': '${:,.2f}',\n",
    "                           'Total Purchase Value': '${:,.2f}',\n",
    "                           'Avg Total Purchase per Person': '${:,.2f}'})\n",
    "\n",
    "\n"
   ]
  },
  {
   "cell_type": "markdown",
   "metadata": {},
   "source": [
    "## Top Spenders"
   ]
  },
  {
   "cell_type": "markdown",
   "metadata": {},
   "source": [
    "* Run basic calculations to obtain the results in the table below\n",
    "\n",
    "\n",
    "* Create a summary data frame to hold the results\n",
    "\n",
    "\n",
    "* Sort the total purchase value column in descending order\n",
    "\n",
    "\n",
    "* Optional: give the displayed data cleaner formatting\n",
    "\n",
    "\n",
    "* Display a preview of the summary data frame\n",
    "\n"
   ]
  },
  {
   "cell_type": "code",
   "execution_count": 85,
   "metadata": {},
   "outputs": [
    {
     "data": {
      "text/html": [
       "<style  type=\"text/css\" >\n",
       "</style><table id=\"T_1fe24bd0_da53_11e9_8f96_3024328f05c4\" ><thead>    <tr>        <th class=\"blank level0\" ></th>        <th class=\"col_heading level0 col0\" >Purchase Count</th>        <th class=\"col_heading level0 col1\" >Average Purchase Price</th>        <th class=\"col_heading level0 col2\" >Total Purchase Value</th>    </tr>    <tr>        <th class=\"index_name level0\" >SN</th>        <th class=\"blank\" ></th>        <th class=\"blank\" ></th>        <th class=\"blank\" ></th>    </tr></thead><tbody>\n",
       "                <tr>\n",
       "                        <th id=\"T_1fe24bd0_da53_11e9_8f96_3024328f05c4level0_row0\" class=\"row_heading level0 row0\" >Lisosia93</th>\n",
       "                        <td id=\"T_1fe24bd0_da53_11e9_8f96_3024328f05c4row0_col0\" class=\"data row0 col0\" >5</td>\n",
       "                        <td id=\"T_1fe24bd0_da53_11e9_8f96_3024328f05c4row0_col1\" class=\"data row0 col1\" >$3.79</td>\n",
       "                        <td id=\"T_1fe24bd0_da53_11e9_8f96_3024328f05c4row0_col2\" class=\"data row0 col2\" >$18.96</td>\n",
       "            </tr>\n",
       "            <tr>\n",
       "                        <th id=\"T_1fe24bd0_da53_11e9_8f96_3024328f05c4level0_row1\" class=\"row_heading level0 row1\" >Iral74</th>\n",
       "                        <td id=\"T_1fe24bd0_da53_11e9_8f96_3024328f05c4row1_col0\" class=\"data row1 col0\" >4</td>\n",
       "                        <td id=\"T_1fe24bd0_da53_11e9_8f96_3024328f05c4row1_col1\" class=\"data row1 col1\" >$3.40</td>\n",
       "                        <td id=\"T_1fe24bd0_da53_11e9_8f96_3024328f05c4row1_col2\" class=\"data row1 col2\" >$13.62</td>\n",
       "            </tr>\n",
       "            <tr>\n",
       "                        <th id=\"T_1fe24bd0_da53_11e9_8f96_3024328f05c4level0_row2\" class=\"row_heading level0 row2\" >Idastidru52</th>\n",
       "                        <td id=\"T_1fe24bd0_da53_11e9_8f96_3024328f05c4row2_col0\" class=\"data row2 col0\" >4</td>\n",
       "                        <td id=\"T_1fe24bd0_da53_11e9_8f96_3024328f05c4row2_col1\" class=\"data row2 col1\" >$3.86</td>\n",
       "                        <td id=\"T_1fe24bd0_da53_11e9_8f96_3024328f05c4row2_col2\" class=\"data row2 col2\" >$15.45</td>\n",
       "            </tr>\n",
       "            <tr>\n",
       "                        <th id=\"T_1fe24bd0_da53_11e9_8f96_3024328f05c4level0_row3\" class=\"row_heading level0 row3\" >Asur53</th>\n",
       "                        <td id=\"T_1fe24bd0_da53_11e9_8f96_3024328f05c4row3_col0\" class=\"data row3 col0\" >3</td>\n",
       "                        <td id=\"T_1fe24bd0_da53_11e9_8f96_3024328f05c4row3_col1\" class=\"data row3 col1\" >$2.48</td>\n",
       "                        <td id=\"T_1fe24bd0_da53_11e9_8f96_3024328f05c4row3_col2\" class=\"data row3 col2\" >$7.44</td>\n",
       "            </tr>\n",
       "            <tr>\n",
       "                        <th id=\"T_1fe24bd0_da53_11e9_8f96_3024328f05c4level0_row4\" class=\"row_heading level0 row4\" >Inguron55</th>\n",
       "                        <td id=\"T_1fe24bd0_da53_11e9_8f96_3024328f05c4row4_col0\" class=\"data row4 col0\" >3</td>\n",
       "                        <td id=\"T_1fe24bd0_da53_11e9_8f96_3024328f05c4row4_col1\" class=\"data row4 col1\" >$3.70</td>\n",
       "                        <td id=\"T_1fe24bd0_da53_11e9_8f96_3024328f05c4row4_col2\" class=\"data row4 col2\" >$11.11</td>\n",
       "            </tr>\n",
       "    </tbody></table>"
      ],
      "text/plain": [
       "<pandas.io.formats.style.Styler at 0x13490eb6128>"
      ]
     },
     "execution_count": 85,
     "metadata": {},
     "output_type": "execute_result"
    }
   ],
   "source": [
    "#Create a groupby object by SN\n",
    "sn_group = purchase_data.groupby('SN')\n",
    "\n",
    "#Find the purchase count\n",
    "sn_purch_count = sn_group[\"Purchase ID\"].count()\n",
    "\n",
    "#Find the average purchase price\n",
    "sn_avg_purch_price = sn_group[\"Price\"].mean()\n",
    "\n",
    "#Find the Total Purchase Value\n",
    "sn_total_purch_value = sn_group[\"Price\"].sum()\n",
    "\n",
    "#Create dataframe with new values\n",
    "sn_df = pd.DataFrame({\"Purchase Count\":sn_purch_count,\n",
    "                     \"Average Purchase Price\": sn_avg_purch_price,\n",
    "                     \"Total Purchase Value\": sn_total_purch_value})\n",
    "\n",
    "#Sort the values in descending order\n",
    "sn_df = sn_df.sort_values(by='Purchase Count', ascending=False)\n",
    "\n",
    "#format the values\n",
    "sn_df.head().style.format({'Average Purchase Price': '${:,.2f}',\n",
    "                   'Total Purchase Value': '${:,.2f}'})\n",
    "\n",
    "\n"
   ]
  },
  {
   "cell_type": "markdown",
   "metadata": {},
   "source": [
    "## Most Popular Items"
   ]
  },
  {
   "cell_type": "markdown",
   "metadata": {},
   "source": [
    "* Retrieve the Item ID, Item Name, and Item Price columns\n",
    "\n",
    "\n",
    "* Group by Item ID and Item Name. Perform calculations to obtain purchase count, item price, and total purchase value\n",
    "\n",
    "\n",
    "* Create a summary data frame to hold the results\n",
    "\n",
    "\n",
    "* Sort the purchase count column in descending order\n",
    "\n",
    "\n",
    "* Optional: give the displayed data cleaner formatting\n",
    "\n",
    "\n",
    "* Display a preview of the summary data frame\n",
    "\n"
   ]
  },
  {
   "cell_type": "code",
   "execution_count": 92,
   "metadata": {},
   "outputs": [
    {
     "data": {
      "text/html": [
       "<style  type=\"text/css\" >\n",
       "</style><table id=\"T_0920f92c_da54_11e9_8841_3024328f05c4\" ><thead>    <tr>        <th class=\"blank\" ></th>        <th class=\"blank level0\" ></th>        <th class=\"col_heading level0 col0\" >Purchase Count</th>        <th class=\"col_heading level0 col1\" >Item Price</th>        <th class=\"col_heading level0 col2\" >Total Purchase Value</th>    </tr>    <tr>        <th class=\"index_name level0\" >Item ID</th>        <th class=\"index_name level1\" >Item Name</th>        <th class=\"blank\" ></th>        <th class=\"blank\" ></th>        <th class=\"blank\" ></th>    </tr></thead><tbody>\n",
       "                <tr>\n",
       "                        <th id=\"T_0920f92c_da54_11e9_8841_3024328f05c4level0_row0\" class=\"row_heading level0 row0\" >178</th>\n",
       "                        <th id=\"T_0920f92c_da54_11e9_8841_3024328f05c4level1_row0\" class=\"row_heading level1 row0\" >Oathbreaker, Last Hope of the Breaking Storm</th>\n",
       "                        <td id=\"T_0920f92c_da54_11e9_8841_3024328f05c4row0_col0\" class=\"data row0 col0\" >12</td>\n",
       "                        <td id=\"T_0920f92c_da54_11e9_8841_3024328f05c4row0_col1\" class=\"data row0 col1\" >$4.23</td>\n",
       "                        <td id=\"T_0920f92c_da54_11e9_8841_3024328f05c4row0_col2\" class=\"data row0 col2\" >$50.76</td>\n",
       "            </tr>\n",
       "            <tr>\n",
       "                        <th id=\"T_0920f92c_da54_11e9_8841_3024328f05c4level0_row1\" class=\"row_heading level0 row1\" >145</th>\n",
       "                        <th id=\"T_0920f92c_da54_11e9_8841_3024328f05c4level1_row1\" class=\"row_heading level1 row1\" >Fiery Glass Crusader</th>\n",
       "                        <td id=\"T_0920f92c_da54_11e9_8841_3024328f05c4row1_col0\" class=\"data row1 col0\" >9</td>\n",
       "                        <td id=\"T_0920f92c_da54_11e9_8841_3024328f05c4row1_col1\" class=\"data row1 col1\" >$4.58</td>\n",
       "                        <td id=\"T_0920f92c_da54_11e9_8841_3024328f05c4row1_col2\" class=\"data row1 col2\" >$41.22</td>\n",
       "            </tr>\n",
       "            <tr>\n",
       "                        <th id=\"T_0920f92c_da54_11e9_8841_3024328f05c4level0_row2\" class=\"row_heading level0 row2\" >108</th>\n",
       "                        <th id=\"T_0920f92c_da54_11e9_8841_3024328f05c4level1_row2\" class=\"row_heading level1 row2\" >Extraction, Quickblade Of Trembling Hands</th>\n",
       "                        <td id=\"T_0920f92c_da54_11e9_8841_3024328f05c4row2_col0\" class=\"data row2 col0\" >9</td>\n",
       "                        <td id=\"T_0920f92c_da54_11e9_8841_3024328f05c4row2_col1\" class=\"data row2 col1\" >$3.53</td>\n",
       "                        <td id=\"T_0920f92c_da54_11e9_8841_3024328f05c4row2_col2\" class=\"data row2 col2\" >$31.77</td>\n",
       "            </tr>\n",
       "            <tr>\n",
       "                        <th id=\"T_0920f92c_da54_11e9_8841_3024328f05c4level0_row3\" class=\"row_heading level0 row3\" >82</th>\n",
       "                        <th id=\"T_0920f92c_da54_11e9_8841_3024328f05c4level1_row3\" class=\"row_heading level1 row3\" >Nirvana</th>\n",
       "                        <td id=\"T_0920f92c_da54_11e9_8841_3024328f05c4row3_col0\" class=\"data row3 col0\" >9</td>\n",
       "                        <td id=\"T_0920f92c_da54_11e9_8841_3024328f05c4row3_col1\" class=\"data row3 col1\" >$4.90</td>\n",
       "                        <td id=\"T_0920f92c_da54_11e9_8841_3024328f05c4row3_col2\" class=\"data row3 col2\" >$44.10</td>\n",
       "            </tr>\n",
       "            <tr>\n",
       "                        <th id=\"T_0920f92c_da54_11e9_8841_3024328f05c4level0_row4\" class=\"row_heading level0 row4\" >19</th>\n",
       "                        <th id=\"T_0920f92c_da54_11e9_8841_3024328f05c4level1_row4\" class=\"row_heading level1 row4\" >Pursuit, Cudgel of Necromancy</th>\n",
       "                        <td id=\"T_0920f92c_da54_11e9_8841_3024328f05c4row4_col0\" class=\"data row4 col0\" >8</td>\n",
       "                        <td id=\"T_0920f92c_da54_11e9_8841_3024328f05c4row4_col1\" class=\"data row4 col1\" >$1.02</td>\n",
       "                        <td id=\"T_0920f92c_da54_11e9_8841_3024328f05c4row4_col2\" class=\"data row4 col2\" >$8.16</td>\n",
       "            </tr>\n",
       "    </tbody></table>"
      ],
      "text/plain": [
       "<pandas.io.formats.style.Styler at 0x13490eb6080>"
      ]
     },
     "execution_count": 92,
     "metadata": {},
     "output_type": "execute_result"
    }
   ],
   "source": [
    "#Retrieve the Item ID, Item Name, and Item Price columns\n",
    "popular_df = purchase_data[[\"Item ID\", \"Item Name\", \"Price\"]]\n",
    "\n",
    "#Group by Item ID and Item Name\n",
    "id_and_name = popular_df.groupby(['Item ID', 'Item Name'])\n",
    "#id_and_name.max()\n",
    "\n",
    "#Perform calculations to obtain purchase count, item price, and total purchase value\n",
    "\n",
    "pop_purch_count =id_and_name[\"Item ID\"].count()\n",
    "\n",
    "pop_item_price = id_and_name['Price'].unique().str[0]\n",
    "\n",
    "pop_total_purch = pop_purch_count*pop_item_price\n",
    "\n",
    "#Create data frame with results\n",
    "id_and_name = pd.DataFrame({\"Purchase Count\":pop_purch_count,\n",
    "                           \"Item Price\": pop_item_price,\n",
    "                           \"Total Purchase Value\": pop_total_purch})\n",
    "\n",
    "#Sort by Purchase Count in descending order\n",
    "id_and_name = id_and_name.sort_values(by='Purchase Count', ascending=False)\n",
    "\n",
    "#Format\n",
    "id_and_name.head().style.format({'Item Price':'${:,.2f}',\n",
    "                         'Total Purchase Value': '${:,.2f}'})\n"
   ]
  },
  {
   "cell_type": "markdown",
   "metadata": {},
   "source": [
    "## Most Profitable Items"
   ]
  },
  {
   "cell_type": "markdown",
   "metadata": {},
   "source": [
    "* Sort the above table by total purchase value in descending order\n",
    "\n",
    "\n",
    "* Optional: give the displayed data cleaner formatting\n",
    "\n",
    "\n",
    "* Display a preview of the data frame\n",
    "\n"
   ]
  },
  {
   "cell_type": "code",
   "execution_count": 93,
   "metadata": {
    "scrolled": true
   },
   "outputs": [
    {
     "data": {
      "text/html": [
       "<style  type=\"text/css\" >\n",
       "</style><table id=\"T_0e2826e2_da54_11e9_af4c_3024328f05c4\" ><thead>    <tr>        <th class=\"blank\" ></th>        <th class=\"blank level0\" ></th>        <th class=\"col_heading level0 col0\" >Purchase Count</th>        <th class=\"col_heading level0 col1\" >Item Price</th>        <th class=\"col_heading level0 col2\" >Total Purchase Value</th>    </tr>    <tr>        <th class=\"index_name level0\" >Item ID</th>        <th class=\"index_name level1\" >Item Name</th>        <th class=\"blank\" ></th>        <th class=\"blank\" ></th>        <th class=\"blank\" ></th>    </tr></thead><tbody>\n",
       "                <tr>\n",
       "                        <th id=\"T_0e2826e2_da54_11e9_af4c_3024328f05c4level0_row0\" class=\"row_heading level0 row0\" >178</th>\n",
       "                        <th id=\"T_0e2826e2_da54_11e9_af4c_3024328f05c4level1_row0\" class=\"row_heading level1 row0\" >Oathbreaker, Last Hope of the Breaking Storm</th>\n",
       "                        <td id=\"T_0e2826e2_da54_11e9_af4c_3024328f05c4row0_col0\" class=\"data row0 col0\" >12</td>\n",
       "                        <td id=\"T_0e2826e2_da54_11e9_af4c_3024328f05c4row0_col1\" class=\"data row0 col1\" >$4.23</td>\n",
       "                        <td id=\"T_0e2826e2_da54_11e9_af4c_3024328f05c4row0_col2\" class=\"data row0 col2\" >$50.76</td>\n",
       "            </tr>\n",
       "            <tr>\n",
       "                        <th id=\"T_0e2826e2_da54_11e9_af4c_3024328f05c4level0_row1\" class=\"row_heading level0 row1\" >82</th>\n",
       "                        <th id=\"T_0e2826e2_da54_11e9_af4c_3024328f05c4level1_row1\" class=\"row_heading level1 row1\" >Nirvana</th>\n",
       "                        <td id=\"T_0e2826e2_da54_11e9_af4c_3024328f05c4row1_col0\" class=\"data row1 col0\" >9</td>\n",
       "                        <td id=\"T_0e2826e2_da54_11e9_af4c_3024328f05c4row1_col1\" class=\"data row1 col1\" >$4.90</td>\n",
       "                        <td id=\"T_0e2826e2_da54_11e9_af4c_3024328f05c4row1_col2\" class=\"data row1 col2\" >$44.10</td>\n",
       "            </tr>\n",
       "            <tr>\n",
       "                        <th id=\"T_0e2826e2_da54_11e9_af4c_3024328f05c4level0_row2\" class=\"row_heading level0 row2\" >145</th>\n",
       "                        <th id=\"T_0e2826e2_da54_11e9_af4c_3024328f05c4level1_row2\" class=\"row_heading level1 row2\" >Fiery Glass Crusader</th>\n",
       "                        <td id=\"T_0e2826e2_da54_11e9_af4c_3024328f05c4row2_col0\" class=\"data row2 col0\" >9</td>\n",
       "                        <td id=\"T_0e2826e2_da54_11e9_af4c_3024328f05c4row2_col1\" class=\"data row2 col1\" >$4.58</td>\n",
       "                        <td id=\"T_0e2826e2_da54_11e9_af4c_3024328f05c4row2_col2\" class=\"data row2 col2\" >$41.22</td>\n",
       "            </tr>\n",
       "            <tr>\n",
       "                        <th id=\"T_0e2826e2_da54_11e9_af4c_3024328f05c4level0_row3\" class=\"row_heading level0 row3\" >92</th>\n",
       "                        <th id=\"T_0e2826e2_da54_11e9_af4c_3024328f05c4level1_row3\" class=\"row_heading level1 row3\" >Final Critic</th>\n",
       "                        <td id=\"T_0e2826e2_da54_11e9_af4c_3024328f05c4row3_col0\" class=\"data row3 col0\" >8</td>\n",
       "                        <td id=\"T_0e2826e2_da54_11e9_af4c_3024328f05c4row3_col1\" class=\"data row3 col1\" >$4.88</td>\n",
       "                        <td id=\"T_0e2826e2_da54_11e9_af4c_3024328f05c4row3_col2\" class=\"data row3 col2\" >$39.04</td>\n",
       "            </tr>\n",
       "            <tr>\n",
       "                        <th id=\"T_0e2826e2_da54_11e9_af4c_3024328f05c4level0_row4\" class=\"row_heading level0 row4\" >103</th>\n",
       "                        <th id=\"T_0e2826e2_da54_11e9_af4c_3024328f05c4level1_row4\" class=\"row_heading level1 row4\" >Singed Scalpel</th>\n",
       "                        <td id=\"T_0e2826e2_da54_11e9_af4c_3024328f05c4row4_col0\" class=\"data row4 col0\" >8</td>\n",
       "                        <td id=\"T_0e2826e2_da54_11e9_af4c_3024328f05c4row4_col1\" class=\"data row4 col1\" >$4.35</td>\n",
       "                        <td id=\"T_0e2826e2_da54_11e9_af4c_3024328f05c4row4_col2\" class=\"data row4 col2\" >$34.80</td>\n",
       "            </tr>\n",
       "    </tbody></table>"
      ],
      "text/plain": [
       "<pandas.io.formats.style.Styler at 0x13490eb8f28>"
      ]
     },
     "execution_count": 93,
     "metadata": {},
     "output_type": "execute_result"
    }
   ],
   "source": [
    "#Use the same DF as about, but sort by Total Purchase Value in descending order\n",
    "id_and_name = id_and_name.sort_values(by='Total Purchase Value', ascending=False)\n",
    "\n",
    "#Same formatting\n",
    "id_and_name.head().style.format({'Item Price':'${:,.2f}',\n",
    "                         'Total Purchase Value': '${:,.2f}'})"
   ]
  },
  {
   "cell_type": "code",
   "execution_count": null,
   "metadata": {},
   "outputs": [],
   "source": []
  }
 ],
 "metadata": {
  "anaconda-cloud": {},
  "kernel_info": {
   "name": "python3"
  },
  "kernelspec": {
   "display_name": "Python 3",
   "language": "python",
   "name": "python3"
  },
  "language_info": {
   "codemirror_mode": {
    "name": "ipython",
    "version": 3
   },
   "file_extension": ".py",
   "mimetype": "text/x-python",
   "name": "python",
   "nbconvert_exporter": "python",
   "pygments_lexer": "ipython3",
   "version": "3.6.9"
  },
  "latex_envs": {
   "LaTeX_envs_menu_present": true,
   "autoclose": false,
   "autocomplete": true,
   "bibliofile": "biblio.bib",
   "cite_by": "apalike",
   "current_citInitial": 1,
   "eqLabelWithNumbers": true,
   "eqNumInitial": 1,
   "hotkeys": {
    "equation": "Ctrl-E",
    "itemize": "Ctrl-I"
   },
   "labels_anchors": false,
   "latex_user_defs": false,
   "report_style_numbering": false,
   "user_envs_cfg": false
  },
  "nteract": {
   "version": "0.2.0"
  }
 },
 "nbformat": 4,
 "nbformat_minor": 2
}
